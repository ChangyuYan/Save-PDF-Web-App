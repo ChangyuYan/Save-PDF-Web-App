{
 "cells": [
  {
   "cell_type": "code",
   "execution_count": 1,
   "metadata": {},
   "outputs": [],
   "source": [
    "from urllib.request import urlopen as uReq\n",
    "from bs4 import BeautifulSoup as soup\n",
    "import requests\n",
    "import os"
   ]
  },
  {
   "cell_type": "code",
   "execution_count": 2,
   "metadata": {},
   "outputs": [],
   "source": [
    "def save_all_pdf(page_url, location = None):\n",
    "    # TODO: Changyu - Consider changing the location folder name each time\n",
    "    # Openning connection and request page\n",
    "    if not location:\n",
    "        # TODO: Changyu - conditional check on location format to avoid crash!!\n",
    "        location = os.getcwd()\n",
    "    print(location)\n",
    "    uClient = uReq(page_url)\n",
    "    page_html = uClient.read()\n",
    "    uClient.close()\n",
    "    # Parse HTML\n",
    "    page_soup = soup(page_html, \"html.parser\")\n",
    "    # Grab each row\n",
    "    containers = page_soup.findAll(\"a\")\n",
    "    link_prefix = page_url[ : page_url.rfind('/')]\n",
    "    for anchor in containers:\n",
    "        link = anchor.get('href')\n",
    "        if link and link[-3:] == 'pdf':\n",
    "            file_url = \"%s/%s\" % (link_prefix, link)\n",
    "            r = requests.get(file_url, stream = True) \n",
    "            print((\"%s.pdf\" % anchor.text))\n",
    "            with open((\"%s/%s.pdf\" % (location, anchor.text)),\"wb\") as pdf: \n",
    "                for chunk in r.iter_content(chunk_size=1024): \n",
    "                    if chunk: \n",
    "                        pdf.write(chunk) "
   ]
  },
  {
   "cell_type": "code",
   "execution_count": 3,
   "metadata": {},
   "outputs": [],
   "source": [
    "url1 = \"https://www.marxists.org/chinese/pdf/me-old.htm\"\n",
    "url2 = \"https://www.math.ucla.edu/~tao/resource/general/115a.3.02f/\""
   ]
  },
  {
   "cell_type": "code",
   "execution_count": 4,
   "metadata": {},
   "outputs": [],
   "source": [
    "page_urls = [url1, url2]"
   ]
  },
  {
   "cell_type": "code",
   "execution_count": 5,
   "metadata": {
    "scrolled": true
   },
   "outputs": [
    {
     "name": "stdout",
     "output_type": "stream",
     "text": [
      "/Users/changyuyan/Developer/Save-PDF-Web-App\n",
      "马克思恩格斯全集目录PDF.pdf\n",
      "马克思恩格斯全集(1)(上).pdf\n",
      "马克思恩格斯全集(1)(下).pdf\n",
      "马克思恩格斯全集(1).pdf\n",
      "马克思恩格斯全集(2).pdf\n",
      "马克思恩格斯全集(3).pdf\n",
      "马克思恩格斯全集(4).pdf\n",
      "马克思恩格斯全集(5).pdf\n",
      "马克思恩格斯全集(6).pdf\n",
      "马克思恩格斯全集(7).pdf\n",
      "马克思恩格斯全集(8).pdf\n",
      "马克思恩格斯全集(9).pdf\n",
      "马克思恩格斯全集(10).pdf\n",
      "马克思恩格斯全集(11).pdf\n",
      "马克思恩格斯全集(12).pdf\n",
      "马克思恩格斯全集(13).pdf\n",
      "马克思恩格斯全集(14)(上).pdf\n",
      "马克思恩格斯全集(14)(下).pdf\n",
      "马克思恩格斯全集(15).pdf\n",
      "马克思恩格斯全集(16).pdf\n",
      "马克思恩格斯全集(17).pdf\n",
      "马克思恩格斯全集(18).pdf\n",
      "马克思恩格斯全集(19).pdf\n",
      "马克思恩格斯全集(20).pdf\n",
      "马克思恩格斯全集(21).pdf\n",
      "马克思恩格斯全集(22).pdf\n",
      "马克思恩格斯全集(23).pdf\n",
      "马克思恩格斯全集(24).pdf\n",
      "马克思恩格斯全集(25)(上).pdf\n",
      "马克思恩格斯全集(25)(下).pdf\n",
      "马克思恩格斯全集(26)(上).pdf\n",
      "马克思恩格斯全集(26)(中).pdf\n",
      "马克思恩格斯全集(26)(下).pdf\n",
      "马克思恩格斯全集(27).pdf\n",
      "马克思恩格斯全集(28)(上).pdf\n",
      "马克思恩格斯全集(28)(下).pdf\n",
      "马克思恩格斯全集(29).pdf\n",
      "马克思恩格斯全集(30)(上).pdf\n",
      "马克思恩格斯全集(30)(下).pdf\n",
      "马克思恩格斯全集(31)(上).pdf\n",
      "马克思恩格斯全集(31)(下).pdf\n",
      "马克思恩格斯全集(32).pdf\n",
      "马克思恩格斯全集(33).pdf\n",
      "马克思恩格斯全集(34).pdf\n",
      "马克思恩格斯全集(35).pdf\n",
      "马克思恩格斯全集(36).pdf\n",
      "马克思恩格斯全集(37).pdf\n",
      "马克思恩格斯全集(38).pdf\n",
      "马克思恩格斯全集(39)(上).pdf\n",
      "马克思恩格斯全集(39)(下).pdf\n",
      "马克思恩格斯全集(40).pdf\n",
      "马克思恩格斯全集(41).pdf\n",
      "马克思恩格斯全集(42).pdf\n",
      "马克思恩格斯全集(43).pdf\n",
      "马克思恩格斯全集(44).pdf\n",
      "马克思恩格斯全集(45).pdf\n",
      "马克思恩格斯全集(46)(上).pdf\n",
      "马克思恩格斯全集(46)(下).pdf\n",
      "马克思恩格斯全集(47).pdf\n",
      "马克思恩格斯全集(48).pdf\n",
      "马克思恩格斯全集(49).pdf\n",
      "马克思恩格斯全集(50).pdf\n",
      "马克思恩格斯全集人名索引（第1至39卷）.pdf\n",
      "马克思恩格斯全集说明汇编（第1至39卷）.pdf\n",
      "马克思恩格斯全集目录、说明、索引（第40至50卷）.pdf\n",
      "马克思恩格斯文集(1) 1843-1848年著作.pdf\n",
      "马克思恩格斯文集(2) 1848-1859年著作.pdf\n",
      "马克思恩格斯文集(3) 1864-1883年著作.pdf\n",
      "马克思恩格斯文集(4) 恩格斯1884-1895年著作.pdf\n",
      "马克思恩格斯文集(5) 《资本论》第一卷.pdf\n",
      "马克思恩格斯文集(6) 《资本论》第二卷.pdf\n",
      "马克思恩格斯文集(7) 《资本论》第三卷.pdf\n",
      "马克思恩格斯文集(8) 《资本论》手稿选编.pdf\n",
      "马克思恩格斯文集(9) 恩格斯《反杜林论》《自然辩证法》.pdf\n",
      "马克思恩格斯文集(10) 书信选编.pdf\n",
      "马克思恩格斯选集(1).pdf\n",
      "马克思恩格斯选集(2).pdf\n",
      "马克思恩格斯选集(3).pdf\n",
      "马克思恩格斯选集(4).pdf\n",
      "《从MEGA1到MEGA2的历程——马克思恩格斯全集历史考证版的诞生与发展》.pdf.pdf\n"
     ]
    }
   ],
   "source": [
    "save_all_pdf(url1)"
   ]
  },
  {
   "cell_type": "code",
   "execution_count": 6,
   "metadata": {},
   "outputs": [
    {
     "name": "stdout",
     "output_type": "stream",
     "text": [
      "/Users/changyuyan/Developer\n",
      "Week 1: Vectors, vector spaces, span, linear independence,\n",
      "bases.pdf\n",
      "Week 2: Dimension, Lagrange interpolation, linear transformations.pdf\n",
      "Week 3: Null spaces, range, co-ordinate bases, matrix\n",
      "representation, composition.pdf\n",
      "Week 4: Matrix multiplication, Invertibility, Isomorphisms.pdf\n",
      "Week 5: Co-ordinate change, midterm review.pdf\n",
      "Week 6: Review of elementary row operations, rank,\n",
      "determinants.pdf\n",
      "Week 7: Eigenvalues, Eigenvectors, diagonalization.pdf\n",
      "Week 8: Characteristic polynomials, inner products.pdf\n",
      "Week 9: Norms, orthogonal bases, orthognalization,\n",
      "orthogonal complements.pdf\n",
      "Week 10: Adjoints, normal and self-adjoint operators, final review.pdf\n",
      "Sample midterm..pdf\n",
      "solutions.pdf\n",
      "Actual midterm.pdf\n",
      "solutions.pdf\n",
      "Sample\n",
      "final.pdf\n",
      "here.pdf\n",
      "Another practice final.pdf\n",
      "Solution to homework 1.pdf\n",
      "Solution to homework 2.pdf\n",
      "Solution to homework 3.pdf\n",
      "Solution to homework 4.pdf\n",
      "Solution to homework 5.pdf\n",
      "Solution to homework 6.pdf\n",
      "Solution to homework 7.pdf\n",
      "Solution to homework 8.pdf\n",
      "set theory.pdf\n"
     ]
    }
   ],
   "source": [
    "save_all_pdf(url2, '/Users/changyuyan/Developer')"
   ]
  },
  {
   "cell_type": "code",
   "execution_count": null,
   "metadata": {},
   "outputs": [],
   "source": []
  }
 ],
 "metadata": {
  "kernelspec": {
   "display_name": "Python 3",
   "language": "python",
   "name": "python3"
  },
  "language_info": {
   "codemirror_mode": {
    "name": "ipython",
    "version": 3
   },
   "file_extension": ".py",
   "mimetype": "text/x-python",
   "name": "python",
   "nbconvert_exporter": "python",
   "pygments_lexer": "ipython3",
   "version": "3.7.6"
  }
 },
 "nbformat": 4,
 "nbformat_minor": 4
}
